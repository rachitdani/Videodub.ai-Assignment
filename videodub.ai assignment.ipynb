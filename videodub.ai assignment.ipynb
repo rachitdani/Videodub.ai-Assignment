{
 "cells": [
  {
   "cell_type": "code",
   "execution_count": 1,
   "metadata": {},
   "outputs": [
    {
     "name": "stdout",
     "output_type": "stream",
     "text": [
      "Requirement already satisfied: selenium in /Library/Frameworks/Python.framework/Versions/3.8/lib/python3.8/site-packages (4.16.0)\n",
      "Requirement already satisfied: trio-websocket~=0.9 in /Library/Frameworks/Python.framework/Versions/3.8/lib/python3.8/site-packages (from selenium) (0.11.1)\n",
      "Requirement already satisfied: urllib3[socks]<3,>=1.26 in /Library/Frameworks/Python.framework/Versions/3.8/lib/python3.8/site-packages (from selenium) (2.1.0)\n",
      "Requirement already satisfied: trio~=0.17 in /Library/Frameworks/Python.framework/Versions/3.8/lib/python3.8/site-packages (from selenium) (0.23.1)\n",
      "Requirement already satisfied: certifi>=2021.10.8 in /Library/Frameworks/Python.framework/Versions/3.8/lib/python3.8/site-packages (from selenium) (2023.11.17)\n",
      "Requirement already satisfied: exceptiongroup; python_version < \"3.11\" in /Library/Frameworks/Python.framework/Versions/3.8/lib/python3.8/site-packages (from trio-websocket~=0.9->selenium) (1.2.0)\n",
      "Requirement already satisfied: wsproto>=0.14 in /Library/Frameworks/Python.framework/Versions/3.8/lib/python3.8/site-packages (from trio-websocket~=0.9->selenium) (1.2.0)\n",
      "Requirement already satisfied: pysocks!=1.5.7,<2.0,>=1.5.6; extra == \"socks\" in /Library/Frameworks/Python.framework/Versions/3.8/lib/python3.8/site-packages (from urllib3[socks]<3,>=1.26->selenium) (1.7.1)\n",
      "Requirement already satisfied: attrs>=20.1.0 in /Library/Frameworks/Python.framework/Versions/3.8/lib/python3.8/site-packages (from trio~=0.17->selenium) (23.1.0)\n",
      "Requirement already satisfied: sortedcontainers in /Library/Frameworks/Python.framework/Versions/3.8/lib/python3.8/site-packages (from trio~=0.17->selenium) (2.4.0)\n",
      "Requirement already satisfied: sniffio>=1.3.0 in /Library/Frameworks/Python.framework/Versions/3.8/lib/python3.8/site-packages (from trio~=0.17->selenium) (1.3.0)\n",
      "Requirement already satisfied: idna in /Library/Frameworks/Python.framework/Versions/3.8/lib/python3.8/site-packages (from trio~=0.17->selenium) (3.6)\n",
      "Requirement already satisfied: outcome in /Library/Frameworks/Python.framework/Versions/3.8/lib/python3.8/site-packages (from trio~=0.17->selenium) (1.3.0.post0)\n",
      "Requirement already satisfied: h11<1,>=0.9.0 in /Library/Frameworks/Python.framework/Versions/3.8/lib/python3.8/site-packages (from wsproto>=0.14->trio-websocket~=0.9->selenium) (0.14.0)\n",
      "\u001b[33mWARNING: You are using pip version 19.2.3, however version 23.3.1 is available.\n",
      "You should consider upgrading via the 'pip install --upgrade pip' command.\u001b[0m\n",
      "Note: you may need to restart the kernel to use updated packages.\n"
     ]
    }
   ],
   "source": [
    "pip install selenium"
   ]
  },
  {
   "cell_type": "code",
   "execution_count": 2,
   "metadata": {},
   "outputs": [
    {
     "name": "stdout",
     "output_type": "stream",
     "text": [
      "Requirement already satisfied: bs4 in /Library/Frameworks/Python.framework/Versions/3.8/lib/python3.8/site-packages (0.0.1)\n",
      "Requirement already satisfied: beautifulsoup4 in /Library/Frameworks/Python.framework/Versions/3.8/lib/python3.8/site-packages (from bs4) (4.12.2)\n",
      "Requirement already satisfied: soupsieve>1.2 in /Library/Frameworks/Python.framework/Versions/3.8/lib/python3.8/site-packages (from beautifulsoup4->bs4) (2.5)\n",
      "\u001b[33mWARNING: You are using pip version 19.2.3, however version 23.3.1 is available.\n",
      "You should consider upgrading via the 'pip install --upgrade pip' command.\u001b[0m\n",
      "Note: you may need to restart the kernel to use updated packages.\n"
     ]
    }
   ],
   "source": [
    "pip install bs4"
   ]
  },
  {
   "cell_type": "code",
   "execution_count": 3,
   "metadata": {},
   "outputs": [
    {
     "name": "stdout",
     "output_type": "stream",
     "text": [
      "Requirement already satisfied: pandas in /Library/Frameworks/Python.framework/Versions/3.8/lib/python3.8/site-packages (2.0.3)\n",
      "Requirement already satisfied: python-dateutil>=2.8.2 in /Library/Frameworks/Python.framework/Versions/3.8/lib/python3.8/site-packages (from pandas) (2.8.2)\n",
      "Requirement already satisfied: pytz>=2020.1 in /Library/Frameworks/Python.framework/Versions/3.8/lib/python3.8/site-packages (from pandas) (2023.3.post1)\n",
      "Requirement already satisfied: numpy>=1.20.3; python_version < \"3.10\" in /Library/Frameworks/Python.framework/Versions/3.8/lib/python3.8/site-packages (from pandas) (1.24.4)\n",
      "Requirement already satisfied: tzdata>=2022.1 in /Library/Frameworks/Python.framework/Versions/3.8/lib/python3.8/site-packages (from pandas) (2023.3)\n",
      "Requirement already satisfied: six>=1.5 in /Library/Frameworks/Python.framework/Versions/3.8/lib/python3.8/site-packages (from python-dateutil>=2.8.2->pandas) (1.16.0)\n",
      "\u001b[33mWARNING: You are using pip version 19.2.3, however version 23.3.1 is available.\n",
      "You should consider upgrading via the 'pip install --upgrade pip' command.\u001b[0m\n",
      "Note: you may need to restart the kernel to use updated packages.\n"
     ]
    }
   ],
   "source": [
    "pip install pandas"
   ]
  },
  {
   "cell_type": "code",
   "execution_count": 4,
   "metadata": {},
   "outputs": [
    {
     "name": "stdout",
     "output_type": "stream",
     "text": [
      "Requirement already satisfied: numpy in /Library/Frameworks/Python.framework/Versions/3.8/lib/python3.8/site-packages (1.24.4)\n",
      "\u001b[33mWARNING: You are using pip version 19.2.3, however version 23.3.1 is available.\n",
      "You should consider upgrading via the 'pip install --upgrade pip' command.\u001b[0m\n",
      "Note: you may need to restart the kernel to use updated packages.\n"
     ]
    }
   ],
   "source": [
    "pip install numpy"
   ]
  },
  {
   "cell_type": "code",
   "execution_count": 5,
   "metadata": {},
   "outputs": [],
   "source": [
    "from selenium import webdriver\n",
    "import pandas as pd\n",
    "from selenium.webdriver.common.by import By\n",
    "from bs4 import BeautifulSoup"
   ]
  },
  {
   "cell_type": "code",
   "execution_count": 6,
   "metadata": {},
   "outputs": [],
   "source": [
    "browser = webdriver.Chrome()"
   ]
  },
  {
   "cell_type": "markdown",
   "metadata": {},
   "source": []
  },
  {
   "cell_type": "code",
   "execution_count": 7,
   "metadata": {},
   "outputs": [],
   "source": [
    "url = \"https://theresanaiforthat.com/saved/\""
   ]
  },
  {
   "cell_type": "code",
   "execution_count": 8,
   "metadata": {},
   "outputs": [],
   "source": [
    "browser.get(url)"
   ]
  },
  {
   "cell_type": "code",
   "execution_count": 12,
   "metadata": {},
   "outputs": [
    {
     "name": "stdout",
     "output_type": "stream",
     "text": [
      "['Dexter Homeschool', 'Whisper to Stable Diffusion', 'Copy.ai']\n"
     ]
    }
   ],
   "source": [
    "#Approach\n",
    "final_list = []\n",
    "\n",
    "name1 = browser.find_elements(By.XPATH,\"//*[@id='data_hist']/ul[2]/li[1]/div[1]/div[2]/div[1]/a[1]\")\n",
    "for j in name1:\n",
    "    t=j.text\n",
    "    final_list.append(t)\n",
    "\n",
    "name1 = browser.find_elements(By.XPATH,\"//*[@id='data_hist']/ul[2]/li[2]/div[1]/div[2]/div[1]/a[1]\")\n",
    "for j in name1:\n",
    "    t=j.text\n",
    "    final_list.append(t)\n",
    "\n",
    "name1 = browser.find_elements(By.XPATH,\"//*[@id='data_hist']/ul[2]/li[3]/div[1]/div[2]/div[1]/a[1]\")\n",
    "for j in name1:\n",
    "    t=j.text\n",
    "    final_list.append(t)\n",
    "\n",
    "print(final_list)"
   ]
  },
  {
   "cell_type": "code",
   "execution_count": 13,
   "metadata": {},
   "outputs": [
    {
     "name": "stdout",
     "output_type": "stream",
     "text": [
      "['Dexter Homeschool', 'Whisper to Stable Diffusion', 'Copy.ai', 'Jasper.ai', 'Writesonic', 'Ponzu.gg', 'Frase.io', 'Bertha.ai', 'Hypotenuse.ai', 'Simplified', 'Peppertype.ai', 'Rytr', 'Sudowrite', 'NovelAI', 'Compose AI', 'AI Dungeon', 'Fliki', 'Dubverse.ai', 'Tavus', 'Synthesia', 'Hour One', 'Colossyan', 'Artbreeder', 'Mutable.ai', 'ai2sql', 'Excelformulabot', 'AvatarAI', 'ProfilePicture.ai', 'YouWhisper', 'Vizcom AI', 'Poly AI', 'Uizard', 'Makeit.ai', 'Resemble.ai', 'Wellsaid', 'Replica', 'Coqui', 'Splash', 'Boomy', 'Inworld', 'StarByFace', 'Astria.ai', 'Make a Video']\n"
     ]
    }
   ],
   "source": [
    "#Final Code for scrapping\n",
    "\n",
    "final_list = []\n",
    "\n",
    "for i in range(1, 44): \n",
    "    xpath = f\"//*[@id='data_hist']/ul[2]/li[{i}]/div[1]/div[2]/div[1]/a[1]\"\n",
    "    name_elements = browser.find_elements(By.XPATH, xpath)\n",
    "\n",
    "    for j in name_elements:\n",
    "        t = j.text\n",
    "        final_list.append(t)\n",
    "\n",
    "print(final_list)"
   ]
  },
  {
   "cell_type": "code",
   "execution_count": 14,
   "metadata": {},
   "outputs": [
    {
     "name": "stdout",
     "output_type": "stream",
     "text": [
      "['ai2sql', 'YouWhisper', 'Writesonic', 'Whisper to Stable Diffusion', 'Wellsaid', 'Vizcom AI', 'Uizard', 'Tavus', 'Synthesia', 'Sudowrite', 'StarByFace', 'Splash', 'Simplified', 'Rytr', 'Resemble.ai', 'Replica', 'ProfilePicture.ai', 'Ponzu.gg', 'Poly AI', 'Peppertype.ai', 'NovelAI', 'Mutable.ai', 'Makeit.ai', 'Make a Video', 'Jasper.ai', 'Inworld', 'Hypotenuse.ai', 'Hour One', 'Frase.io', 'Fliki', 'Excelformulabot', 'Dubverse.ai', 'Dexter Homeschool', 'Coqui', 'Copy.ai', 'Compose AI', 'Colossyan', 'Boomy', 'Bertha.ai', 'AvatarAI', 'Astria.ai', 'Artbreeder', 'AI Dungeon']\n"
     ]
    }
   ],
   "source": [
    "# Sort the list in descending order\n",
    "sorted_list = sorted(final_list, reverse=True)\n",
    "\n",
    "# Print the sorted list\n",
    "print(sorted_list)"
   ]
  },
  {
   "cell_type": "code",
   "execution_count": 21,
   "metadata": {},
   "outputs": [
    {
     "name": "stdout",
     "output_type": "stream",
     "text": [
      "{2: {'name': 'Whisper to Stable Diffusion', 'number_of_saves': '198'}, 3: {'name': 'Copy.ai', 'number_of_saves': '302'}, 4: {'name': 'Jasper.ai', 'number_of_saves': '252'}, 5: {'name': 'Writesonic', 'number_of_saves': '243'}, 6: {'name': 'Ponzu.gg', 'number_of_saves': '246'}, 7: {'name': 'Frase.io', 'number_of_saves': '272'}, 8: {'name': 'Bertha.ai', 'number_of_saves': '172'}, 9: {'name': 'Hypotenuse.ai', 'number_of_saves': '253'}, 10: {'name': 'Simplified', 'number_of_saves': '381'}, 11: {'name': 'Peppertype.ai', 'number_of_saves': '184'}, 12: {'name': 'Rytr', 'number_of_saves': '138'}, 13: {'name': 'Sudowrite', 'number_of_saves': '132'}, 14: {'name': 'NovelAI', 'number_of_saves': '137'}, 15: {'name': 'Compose AI', 'number_of_saves': '166'}, 16: {'name': 'AI Dungeon', 'number_of_saves': '126'}, 17: {'name': 'Fliki', 'number_of_saves': '126'}, 18: {'name': 'Dubverse.ai', 'number_of_saves': '151'}, 19: {'name': 'Tavus', 'number_of_saves': '195'}, 20: {'name': 'Synthesia', 'number_of_saves': '158'}, 21: {'name': 'Hour One', 'number_of_saves': '209'}, 22: {'name': 'Colossyan', 'number_of_saves': '209'}, 23: {'name': 'Artbreeder', 'number_of_saves': '130'}, 24: {'name': 'Mutable.ai', 'number_of_saves': '108'}, 25: {'name': 'ai2sql', 'number_of_saves': '105'}, 26: {'name': 'Excelformulabot', 'number_of_saves': '82'}, 27: {'name': 'AvatarAI', 'number_of_saves': '49'}, 28: {'name': 'ProfilePicture.ai', 'number_of_saves': '87'}, 29: {'name': 'YouWhisper', 'number_of_saves': '130'}, 30: {'name': 'Vizcom AI', 'number_of_saves': '69'}, 31: {'name': 'Poly AI', 'number_of_saves': '100'}, 32: {'name': 'Uizard', 'number_of_saves': '95'}, 33: {'name': 'Makeit.ai', 'number_of_saves': '112'}, 34: {'name': 'Resemble.ai', 'number_of_saves': '178'}, 35: {'name': 'Wellsaid', 'number_of_saves': '103'}, 36: {'name': 'Replica', 'number_of_saves': '64'}, 37: {'name': 'Coqui', 'number_of_saves': '333'}, 38: {'name': 'Splash', 'number_of_saves': '453'}, 39: {'name': 'Boomy', 'number_of_saves': '107'}, 40: {'name': 'Inworld', 'number_of_saves': '91'}, 41: {'name': 'StarByFace', 'number_of_saves': '142'}, 42: {'name': 'Astria.ai', 'number_of_saves': '162'}, 43: {'name': 'Make a Video', 'number_of_saves': '280'}, 44: {'name': 'Gigapixel AI', 'number_of_saves': '88'}}\n"
     ]
    }
   ],
   "source": [
    "data_dict = {}\n",
    "\n",
    "for i in range(2, 45):\n",
    "    name_xpath = f\"//*[@id='data_hist']/ul[2]/li[{i}]/div[1]/div[2]/div[1]/a[1]\"\n",
    "    number_of_saves_xpath = f\"//*[@id='data_hist']/ul[2]/li[{i}]/a/span[2]/div\"\n",
    "\n",
    "    try:\n",
    "        name_element = browser.find_element(By.XPATH, name_xpath)\n",
    "        name = name_element.text if name_element else None\n",
    "\n",
    "        saves_element = browser.find_element(By.XPATH, number_of_saves_xpath)\n",
    "        saves = saves_element.text if saves_element else None\n",
    "\n",
    "        data_dict[i] = {'name': name, 'number_of_saves': saves}\n",
    "    except Exception as e:\n",
    "        print(f\"Error processing index {i}: {e}\")\n",
    "\n",
    "# Print the resulting dictionary\n",
    "print(data_dict)"
   ]
  },
  {
   "cell_type": "code",
   "execution_count": 25,
   "metadata": {},
   "outputs": [
    {
     "name": "stdout",
     "output_type": "stream",
     "text": [
      "{1: {'name': 'Dexter Homeschool', 'number_of_saves': 0}, 2: {'name': 'Whisper to Stable Diffusion', 'number_of_saves': '198'}, 3: {'name': 'Copy.ai', 'number_of_saves': '302'}, 4: {'name': 'Jasper.ai', 'number_of_saves': '252'}, 5: {'name': 'Writesonic', 'number_of_saves': '243'}, 6: {'name': 'Ponzu.gg', 'number_of_saves': '246'}, 7: {'name': 'Frase.io', 'number_of_saves': '272'}, 8: {'name': 'Bertha.ai', 'number_of_saves': '172'}, 9: {'name': 'Hypotenuse.ai', 'number_of_saves': '253'}, 10: {'name': 'Simplified', 'number_of_saves': '381'}, 11: {'name': 'Peppertype.ai', 'number_of_saves': '184'}, 12: {'name': 'Rytr', 'number_of_saves': '138'}, 13: {'name': 'Sudowrite', 'number_of_saves': '132'}, 14: {'name': 'NovelAI', 'number_of_saves': '137'}, 15: {'name': 'Compose AI', 'number_of_saves': '166'}, 16: {'name': 'AI Dungeon', 'number_of_saves': '126'}, 17: {'name': 'Fliki', 'number_of_saves': '126'}, 18: {'name': 'Dubverse.ai', 'number_of_saves': '151'}, 19: {'name': 'Tavus', 'number_of_saves': '195'}, 20: {'name': 'Synthesia', 'number_of_saves': '158'}, 21: {'name': 'Hour One', 'number_of_saves': '209'}, 22: {'name': 'Colossyan', 'number_of_saves': '209'}, 23: {'name': 'Artbreeder', 'number_of_saves': '130'}, 24: {'name': 'Mutable.ai', 'number_of_saves': '108'}, 25: {'name': 'ai2sql', 'number_of_saves': '105'}, 26: {'name': 'Excelformulabot', 'number_of_saves': '82'}, 27: {'name': 'AvatarAI', 'number_of_saves': '49'}, 28: {'name': 'ProfilePicture.ai', 'number_of_saves': '87'}, 29: {'name': 'YouWhisper', 'number_of_saves': '130'}, 30: {'name': 'Vizcom AI', 'number_of_saves': '69'}, 31: {'name': 'Poly AI', 'number_of_saves': '100'}, 32: {'name': 'Uizard', 'number_of_saves': '95'}, 33: {'name': 'Makeit.ai', 'number_of_saves': '112'}, 34: {'name': 'Resemble.ai', 'number_of_saves': '178'}, 35: {'name': 'Wellsaid', 'number_of_saves': '103'}, 36: {'name': 'Replica', 'number_of_saves': '64'}, 37: {'name': 'Coqui', 'number_of_saves': '333'}, 38: {'name': 'Splash', 'number_of_saves': '453'}, 39: {'name': 'Boomy', 'number_of_saves': '107'}, 40: {'name': 'Inworld', 'number_of_saves': '91'}, 41: {'name': 'StarByFace', 'number_of_saves': '142'}, 42: {'name': 'Astria.ai', 'number_of_saves': '162'}, 43: {'name': 'Make a Video', 'number_of_saves': '280'}, 44: {'name': 'Gigapixel AI', 'number_of_saves': '88'}}\n"
     ]
    }
   ],
   "source": [
    "data_dict = {}\n",
    "\n",
    "data_dict[1] = {'name': final_list[0], 'number_of_saves': 0}\n",
    "for i in range(2, 45):\n",
    "    name_xpath = f\"//*[@id='data_hist']/ul[2]/li[{i}]/div[1]/div[2]/div[1]/a[1]\"\n",
    "    number_of_saves_xpath = f\"//*[@id='data_hist']/ul[2]/li[{i}]/a/span[2]/div\"\n",
    "\n",
    "    try:\n",
    "        name_element = browser.find_element(By.XPATH, name_xpath)\n",
    "        name = name_element.text if name_element else None\n",
    "\n",
    "        saves_element = browser.find_element(By.XPATH, number_of_saves_xpath)\n",
    "        saves = saves_element.text if saves_element else '0'  \n",
    "\n",
    "        data_dict[i] = {'name': name, 'number_of_saves': saves}\n",
    "    except Exception as e:\n",
    "        print(f\"Error processing index {i}: {e}\")\n",
    "\n",
    "# Print the resulting dictionary\n",
    "print(data_dict)\n"
   ]
  },
  {
   "cell_type": "code",
   "execution_count": 40,
   "metadata": {},
   "outputs": [
    {
     "name": "stdout",
     "output_type": "stream",
     "text": [
      "                           name  number_of_saves\n",
      "38                       Splash              453\n",
      "10                   Simplified              381\n",
      "37                        Coqui              333\n",
      "3                       Copy.ai              302\n",
      "43                 Make a Video              280\n",
      "7                      Frase.io              272\n",
      "9                 Hypotenuse.ai              253\n",
      "4                     Jasper.ai              252\n",
      "6                      Ponzu.gg              246\n",
      "5                    Writesonic              243\n",
      "22                    Colossyan              209\n",
      "21                     Hour One              209\n",
      "2   Whisper to Stable Diffusion              198\n",
      "19                        Tavus              195\n",
      "11                Peppertype.ai              184\n",
      "34                  Resemble.ai              178\n",
      "8                     Bertha.ai              172\n",
      "15                   Compose AI              166\n",
      "42                    Astria.ai              162\n",
      "20                    Synthesia              158\n",
      "18                  Dubverse.ai              151\n",
      "41                   StarByFace              142\n",
      "12                         Rytr              138\n",
      "14                      NovelAI              137\n",
      "13                    Sudowrite              132\n",
      "29                   YouWhisper              130\n",
      "23                   Artbreeder              130\n",
      "16                   AI Dungeon              126\n",
      "17                        Fliki              126\n",
      "33                    Makeit.ai              112\n",
      "24                   Mutable.ai              108\n",
      "39                        Boomy              107\n",
      "25                       ai2sql              105\n",
      "35                     Wellsaid              103\n",
      "31                      Poly AI              100\n",
      "32                       Uizard               95\n",
      "40                      Inworld               91\n",
      "44                 Gigapixel AI               88\n",
      "28            ProfilePicture.ai               87\n",
      "26              Excelformulabot               82\n",
      "30                    Vizcom AI               69\n",
      "36                      Replica               64\n",
      "27                     AvatarAI               49\n",
      "1             Dexter Homeschool                0\n"
     ]
    }
   ],
   "source": [
    "# Convert the dictionary to a DataFrame\n",
    "df = pd.DataFrame.from_dict(data_dict, orient='index')\n",
    "\n",
    "# Convert 'number_of_saves' to integers\n",
    "df['number_of_saves'] = pd.to_numeric(df['number_of_saves'], errors='coerce')\n",
    "\n",
    "# Sort the DataFrame based on 'number_of_saves' in descending order\n",
    "sorted_df = df.sort_values(by='number_of_saves', ascending=False)\n",
    "\n",
    "# Print the sorted DataFrame\n",
    "print(sorted_df)"
   ]
  },
  {
   "cell_type": "code",
   "execution_count": 41,
   "metadata": {},
   "outputs": [
    {
     "name": "stdout",
     "output_type": "stream",
     "text": [
      "                           name  number_of_saves\n",
      "0                        Splash              453\n",
      "1                    Simplified              381\n",
      "2                         Coqui              333\n",
      "3                       Copy.ai              302\n",
      "4                  Make a Video              280\n",
      "5                      Frase.io              272\n",
      "6                 Hypotenuse.ai              253\n",
      "7                     Jasper.ai              252\n",
      "8                      Ponzu.gg              246\n",
      "9                    Writesonic              243\n",
      "10                    Colossyan              209\n",
      "11                     Hour One              209\n",
      "12  Whisper to Stable Diffusion              198\n",
      "13                        Tavus              195\n",
      "14                Peppertype.ai              184\n",
      "15                  Resemble.ai              178\n",
      "16                    Bertha.ai              172\n",
      "17                   Compose AI              166\n",
      "18                    Astria.ai              162\n",
      "19                    Synthesia              158\n",
      "20                  Dubverse.ai              151\n",
      "21                   StarByFace              142\n",
      "22                         Rytr              138\n",
      "23                      NovelAI              137\n",
      "24                    Sudowrite              132\n",
      "25                   YouWhisper              130\n",
      "26                   Artbreeder              130\n",
      "27                   AI Dungeon              126\n",
      "28                        Fliki              126\n",
      "29                    Makeit.ai              112\n",
      "30                   Mutable.ai              108\n",
      "31                        Boomy              107\n",
      "32                       ai2sql              105\n",
      "33                     Wellsaid              103\n",
      "34                      Poly AI              100\n",
      "35                       Uizard               95\n",
      "36                      Inworld               91\n",
      "37                 Gigapixel AI               88\n",
      "38            ProfilePicture.ai               87\n",
      "39              Excelformulabot               82\n",
      "40                    Vizcom AI               69\n",
      "41                      Replica               64\n",
      "42                     AvatarAI               49\n",
      "43            Dexter Homeschool                0\n"
     ]
    }
   ],
   "source": [
    "sorted_df.reset_index(inplace=True,drop=True)\n",
    "print(sorted_df)"
   ]
  }
 ],
 "metadata": {
  "kernelspec": {
   "display_name": "Python 3.9.0 64-bit",
   "language": "python",
   "name": "python3"
  },
  "language_info": {
   "codemirror_mode": {
    "name": "ipython",
    "version": 3
   },
   "file_extension": ".py",
   "mimetype": "text/x-python",
   "name": "python",
   "nbconvert_exporter": "python",
   "pygments_lexer": "ipython3",
   "version": "3.9.0"
  },
  "orig_nbformat": 4,
  "vscode": {
   "interpreter": {
    "hash": "aee8b7b246df8f9039afb4144a1f6fd8d2ca17a180786b69acc140d282b71a49"
   }
  }
 },
 "nbformat": 4,
 "nbformat_minor": 2
}
